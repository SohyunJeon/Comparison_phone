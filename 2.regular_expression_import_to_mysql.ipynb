{
 "cells": [
  {
   "cell_type": "markdown",
   "metadata": {},
   "source": [
    "# db import"
   ]
  },
  {
   "cell_type": "code",
   "execution_count": 1,
   "metadata": {
    "collapsed": true
   },
   "outputs": [],
   "source": [
    "import pymongo \n",
    "\n",
    "mongo_server = ''\n",
    "mongo_port = \n",
    "\n",
    "from pymongo import MongoClient\n",
    "\n",
    "mongo = MongoClient(mongo_server, mongo_port)\n"
   ]
  },
  {
   "cell_type": "code",
   "execution_count": 203,
   "metadata": {
    "collapsed": true
   },
   "outputs": [],
   "source": [
    "# 모델링 시간 구하기\n",
    "from time import time\n",
    "\n",
    "def check_time(t0):\n",
    "    dur = time() - t0\n",
    "    print (\"계산에 걸린시간 : {:.3f} 초 \\n\".format(dur))"
   ]
  },
  {
   "cell_type": "code",
   "execution_count": 3,
   "metadata": {
    "collapsed": true
   },
   "outputs": [],
   "source": [
    "import pprint\n",
    "\n",
    "# mongodb 객체 생성\n",
    "\n",
    "v30_nondup= mongo.sns.v30_nondup\n",
    "v30_dup = mongo.sns.v30_dup\n",
    "\n",
    "note8_nondup= mongo.sns.note8_nondup\n",
    "note8_dup = mongo.sns.note8_dup"
   ]
  },
  {
   "cell_type": "markdown",
   "metadata": {},
   "source": [
    "* text 내용 가져오기\n"
   ]
  },
  {
   "cell_type": "code",
   "execution_count": 4,
   "metadata": {
    "collapsed": true
   },
   "outputs": [],
   "source": [
    "# 'text'내용 가져와서 리스트에 넣기\n",
    "def take_text(name, mongo_object):\n",
    "    print (\"text : {}\".format(name))\n",
    "    t0 = time()\n",
    "    result = mongo_object.find()\n",
    "    mongo_text = []\n",
    "    \n",
    "    for record in result:\n",
    "        mongo_text.append(record['text'])\n",
    "        \n",
    "    check_time(t0)\n",
    "    return mongo_text\n",
    "    "
   ]
  },
  {
   "cell_type": "code",
   "execution_count": 5,
   "metadata": {},
   "outputs": [
    {
     "name": "stdout",
     "output_type": "stream",
     "text": [
      "text : v30중복 비허용\n",
      "계산에 걸린시간 : 2.583 초\n",
      "text : v30중복 허용\n",
      "계산에 걸린시간 : 9.792 초\n",
      "text : 노트8 중복 비허용\n",
      "계산에 걸린시간 : 0.586 초\n",
      "text : 노트8 중복 허용\n",
      "계산에 걸린시간 : 1.552 초\n"
     ]
    }
   ],
   "source": [
    "v30_nondup_text = take_text('v30중복 비허용', v30_nondup)\n",
    "v30_dup_text = take_text('v30중복 허용', v30_dup)\n",
    "\n",
    "note8_nondup_text = take_text('노트8 중복 비허용', note8_nondup)\n",
    "note8_dup_text = take_text('노트8 중복 허용',note8_dup)"
   ]
  },
  {
   "cell_type": "code",
   "execution_count": 6,
   "metadata": {},
   "outputs": [
    {
     "data": {
      "text/html": [
       "<div>\n",
       "<style>\n",
       "    .dataframe thead tr:only-child th {\n",
       "        text-align: right;\n",
       "    }\n",
       "\n",
       "    .dataframe thead th {\n",
       "        text-align: left;\n",
       "    }\n",
       "\n",
       "    .dataframe tbody tr th {\n",
       "        vertical-align: top;\n",
       "    }\n",
       "</style>\n",
       "<table border=\"1\" class=\"dataframe\">\n",
       "  <thead>\n",
       "    <tr style=\"text-align: right;\">\n",
       "      <th></th>\n",
       "      <th>0</th>\n",
       "    </tr>\n",
       "  </thead>\n",
       "  <tbody>\n",
       "    <tr>\n",
       "      <th>0</th>\n",
       "      <td>야마가타 대학의 강점은 올레드, 나스카 지상화, 암 치료입니다. 이들은 유망입니다....</td>\n",
       "    </tr>\n",
       "    <tr>\n",
       "      <th>1</th>\n",
       "      <td>[IT다있다] #LG스마트폰 적자 1조 곧 출시될 #&lt;b&gt;V30&lt;/b&gt; 희망이 되어...</td>\n",
       "    </tr>\n",
       "    <tr>\n",
       "      <th>2</th>\n",
       "      <td>LG &lt;b&gt;V30&lt;/b&gt; 국민 체험단 응모해 보세요.  https://t.co/U3...</td>\n",
       "    </tr>\n",
       "    <tr>\n",
       "      <th>3</th>\n",
       "      <td>오직 &lt;b&gt;V30&lt;/b&gt;라서 가능한 3가지 이야기, 3가지 기술들 https://t...</td>\n",
       "    </tr>\n",
       "    <tr>\n",
       "      <th>4</th>\n",
       "      <td>[뉴스] 구글 Pixel 2 XL FCC 인증 완료 HTC가 만들던건 드랍되고 &lt;b...</td>\n",
       "    </tr>\n",
       "  </tbody>\n",
       "</table>\n",
       "</div>"
      ],
      "text/plain": [
       "                                                   0\n",
       "0  야마가타 대학의 강점은 올레드, 나스카 지상화, 암 치료입니다. 이들은 유망입니다....\n",
       "1  [IT다있다] #LG스마트폰 적자 1조 곧 출시될 #<b>V30</b> 희망이 되어...\n",
       "2  LG <b>V30</b> 국민 체험단 응모해 보세요.  https://t.co/U3...\n",
       "3  오직 <b>V30</b>라서 가능한 3가지 이야기, 3가지 기술들 https://t...\n",
       "4  [뉴스] 구글 Pixel 2 XL FCC 인증 완료 HTC가 만들던건 드랍되고 <b..."
      ]
     },
     "execution_count": 6,
     "metadata": {},
     "output_type": "execute_result"
    }
   ],
   "source": [
    "import pandas as pd\n",
    "pd.DataFrame(v30_nondup_text).head()\n"
   ]
  },
  {
   "cell_type": "code",
   "execution_count": 7,
   "metadata": {},
   "outputs": [
    {
     "data": {
      "text/html": [
       "<div>\n",
       "<style>\n",
       "    .dataframe thead tr:only-child th {\n",
       "        text-align: right;\n",
       "    }\n",
       "\n",
       "    .dataframe thead th {\n",
       "        text-align: left;\n",
       "    }\n",
       "\n",
       "    .dataframe tbody tr th {\n",
       "        vertical-align: top;\n",
       "    }\n",
       "</style>\n",
       "<table border=\"1\" class=\"dataframe\">\n",
       "  <thead>\n",
       "    <tr style=\"text-align: right;\">\n",
       "      <th></th>\n",
       "      <th>0</th>\n",
       "    </tr>\n",
       "  </thead>\n",
       "  <tbody>\n",
       "    <tr>\n",
       "      <th>0</th>\n",
       "      <td>후... &lt;b&gt;노트&lt;/b&gt;&lt;b&gt;8&lt;/b&gt; 계약하고 왔다..... 기기가 매장에 없어...</td>\n",
       "    </tr>\n",
       "    <tr>\n",
       "      <th>1</th>\n",
       "      <td>후... &lt;b&gt;노트&lt;/b&gt;&lt;b&gt;8&lt;/b&gt; 계약하고 왔다..... 기기가 매장에 없어...</td>\n",
       "    </tr>\n",
       "    <tr>\n",
       "      <th>2</th>\n",
       "      <td>허루ㅜㅜㅜㅜ&lt;b&gt;노트&lt;/b&gt;&lt;b&gt;8&lt;/b&gt;케이스드디어이뿡고샄댜ㅠㅜㅠㅠㅠㅠㅠㅠ</td>\n",
       "    </tr>\n",
       "    <tr>\n",
       "      <th>3</th>\n",
       "      <td>오늘 사랑하는 사람에게는 어떤 러브액션이 필요할까요? 치약을 펌핑하여 다트를 맞춰주...</td>\n",
       "    </tr>\n",
       "    <tr>\n",
       "      <th>4</th>\n",
       "      <td>갤럭시 &lt;b&gt;노트&lt;/b&gt;&lt;b&gt;8&lt;/b&gt; 일반판매 시작 https://t.co/9oL...</td>\n",
       "    </tr>\n",
       "  </tbody>\n",
       "</table>\n",
       "</div>"
      ],
      "text/plain": [
       "                                                   0\n",
       "0  후... <b>노트</b><b>8</b> 계약하고 왔다..... 기기가 매장에 없어...\n",
       "1  후... <b>노트</b><b>8</b> 계약하고 왔다..... 기기가 매장에 없어...\n",
       "2         허루ㅜㅜㅜㅜ<b>노트</b><b>8</b>케이스드디어이뿡고샄댜ㅠㅜㅠㅠㅠㅠㅠㅠ\n",
       "3  오늘 사랑하는 사람에게는 어떤 러브액션이 필요할까요? 치약을 펌핑하여 다트를 맞춰주...\n",
       "4  갤럭시 <b>노트</b><b>8</b> 일반판매 시작 https://t.co/9oL..."
      ]
     },
     "execution_count": 7,
     "metadata": {},
     "output_type": "execute_result"
    }
   ],
   "source": [
    "pd.DataFrame(note8_dup_text).head()\n"
   ]
  },
  {
   "cell_type": "code",
   "execution_count": 8,
   "metadata": {},
   "outputs": [
    {
     "data": {
      "text/html": [
       "<div>\n",
       "<style>\n",
       "    .dataframe thead tr:only-child th {\n",
       "        text-align: right;\n",
       "    }\n",
       "\n",
       "    .dataframe thead th {\n",
       "        text-align: left;\n",
       "    }\n",
       "\n",
       "    .dataframe tbody tr th {\n",
       "        vertical-align: top;\n",
       "    }\n",
       "</style>\n",
       "<table border=\"1\" class=\"dataframe\">\n",
       "  <thead>\n",
       "    <tr style=\"text-align: right;\">\n",
       "      <th></th>\n",
       "      <th>0</th>\n",
       "    </tr>\n",
       "  </thead>\n",
       "  <tbody>\n",
       "    <tr>\n",
       "      <th>0</th>\n",
       "      <td>@jareun &lt;b&gt;노트&lt;/b&gt;&lt;b&gt;8&lt;/b&gt;!!!!!!</td>\n",
       "    </tr>\n",
       "    <tr>\n",
       "      <th>1</th>\n",
       "      <td>허루ㅜㅜㅜㅜ&lt;b&gt;노트&lt;/b&gt;&lt;b&gt;8&lt;/b&gt;케이스드디어이뿡고샄댜ㅠㅜㅠㅠㅠㅠㅠㅠ</td>\n",
       "    </tr>\n",
       "    <tr>\n",
       "      <th>2</th>\n",
       "      <td>오늘 사랑하는 사람에게는 어떤 러브액션이 필요할까요? 치약을 펌핑하여 다트를 맞춰주...</td>\n",
       "    </tr>\n",
       "    <tr>\n",
       "      <th>3</th>\n",
       "      <td>갤럭시 &lt;b&gt;노트&lt;/b&gt;&lt;b&gt;8&lt;/b&gt; 일반판매 시작 https://t.co/9oL...</td>\n",
       "    </tr>\n",
       "    <tr>\n",
       "      <th>4</th>\n",
       "      <td>@baekdubu 아흑 &lt;b&gt;노트&lt;/b&gt;&lt;b&gt;8&lt;/b&gt; 후기같은거 좀 보고 결정해야...</td>\n",
       "    </tr>\n",
       "  </tbody>\n",
       "</table>\n",
       "</div>"
      ],
      "text/plain": [
       "                                                   0\n",
       "0                    @jareun <b>노트</b><b>8</b>!!!!!!\n",
       "1         허루ㅜㅜㅜㅜ<b>노트</b><b>8</b>케이스드디어이뿡고샄댜ㅠㅜㅠㅠㅠㅠㅠㅠ\n",
       "2  오늘 사랑하는 사람에게는 어떤 러브액션이 필요할까요? 치약을 펌핑하여 다트를 맞춰주...\n",
       "3  갤럭시 <b>노트</b><b>8</b> 일반판매 시작 https://t.co/9oL...\n",
       "4  @baekdubu 아흑 <b>노트</b><b>8</b> 후기같은거 좀 보고 결정해야..."
      ]
     },
     "execution_count": 8,
     "metadata": {},
     "output_type": "execute_result"
    }
   ],
   "source": [
    "pd.DataFrame(note8_nondup_text).head()\n"
   ]
  },
  {
   "cell_type": "code",
   "execution_count": 9,
   "metadata": {},
   "outputs": [
    {
     "data": {
      "text/html": [
       "<div>\n",
       "<style>\n",
       "    .dataframe thead tr:only-child th {\n",
       "        text-align: right;\n",
       "    }\n",
       "\n",
       "    .dataframe thead th {\n",
       "        text-align: left;\n",
       "    }\n",
       "\n",
       "    .dataframe tbody tr th {\n",
       "        vertical-align: top;\n",
       "    }\n",
       "</style>\n",
       "<table border=\"1\" class=\"dataframe\">\n",
       "  <thead>\n",
       "    <tr style=\"text-align: right;\">\n",
       "      <th></th>\n",
       "      <th>0</th>\n",
       "    </tr>\n",
       "  </thead>\n",
       "  <tbody>\n",
       "    <tr>\n",
       "      <th>0</th>\n",
       "      <td>야마가타 대학의 강점은 올레드, 나스카 지상화, 암 치료입니다. 이들은 유망입니다....</td>\n",
       "    </tr>\n",
       "    <tr>\n",
       "      <th>1</th>\n",
       "      <td>[IT다있다] #LG스마트폰 적자 1조 곧 출시될 #&lt;b&gt;V30&lt;/b&gt; 희망이 되어...</td>\n",
       "    </tr>\n",
       "    <tr>\n",
       "      <th>2</th>\n",
       "      <td>LG &lt;b&gt;V30&lt;/b&gt; 국민 체험단 응모해 보세요.  https://t.co/U3...</td>\n",
       "    </tr>\n",
       "    <tr>\n",
       "      <th>3</th>\n",
       "      <td>오직 &lt;b&gt;V30&lt;/b&gt;라서 가능한 3가지 이야기, 3가지 기술들 https://t...</td>\n",
       "    </tr>\n",
       "    <tr>\n",
       "      <th>4</th>\n",
       "      <td>[뉴스] 구글 Pixel 2 XL FCC 인증 완료 HTC가 만들던건 드랍되고 &lt;b...</td>\n",
       "    </tr>\n",
       "  </tbody>\n",
       "</table>\n",
       "</div>"
      ],
      "text/plain": [
       "                                                   0\n",
       "0  야마가타 대학의 강점은 올레드, 나스카 지상화, 암 치료입니다. 이들은 유망입니다....\n",
       "1  [IT다있다] #LG스마트폰 적자 1조 곧 출시될 #<b>V30</b> 희망이 되어...\n",
       "2  LG <b>V30</b> 국민 체험단 응모해 보세요.  https://t.co/U3...\n",
       "3  오직 <b>V30</b>라서 가능한 3가지 이야기, 3가지 기술들 https://t...\n",
       "4  [뉴스] 구글 Pixel 2 XL FCC 인증 완료 HTC가 만들던건 드랍되고 <b..."
      ]
     },
     "execution_count": 9,
     "metadata": {},
     "output_type": "execute_result"
    }
   ],
   "source": [
    "pd.DataFrame(v30_nondup_text).head()"
   ]
  },
  {
   "cell_type": "markdown",
   "metadata": {},
   "source": [
    "# 정규 표현식"
   ]
  },
  {
   "cell_type": "code",
   "execution_count": 10,
   "metadata": {
    "collapsed": true
   },
   "outputs": [],
   "source": [
    "import re"
   ]
  },
  {
   "cell_type": "code",
   "execution_count": 11,
   "metadata": {
    "collapsed": true
   },
   "outputs": [],
   "source": [
    "def take_reg(name, text_list):\n",
    "    t0 = time()\n",
    "    print (\"text : {}\".format(name))\n",
    "    \n",
    "    reg_list = []\n",
    "    \n",
    "    for i in text_list:\n",
    "        reg_text = re.sub(r'[<b>]*[a-zA-Z_@]*[.:;\\/\\!\\(\\)#\\!?\\[\\]~%&|=^,+-]*[ㅠㅜㅋㅗㅑㅓㅣㅎ]*[♡▶★☆●■⭐️♥➡✨✌→▲❤▼↓♥�◀❣❣✅]*', '', i)\n",
    "        reg_list.append(reg_text)\n",
    "    \n",
    "    check_time(t0)\n",
    "    return reg_list"
   ]
  },
  {
   "cell_type": "code",
   "execution_count": 12,
   "metadata": {},
   "outputs": [
    {
     "name": "stdout",
     "output_type": "stream",
     "text": [
      "text : v30중복 비허용\n",
      "계산에 걸린시간 : 0.014 초\n",
      "text : v30중복 허용\n",
      "계산에 걸린시간 : 0.535 초\n",
      "text : 노트8중복 비허용\n",
      "계산에 걸린시간 : 0.010 초\n",
      "text : 노트8중복 허용\n",
      "계산에 걸린시간 : 0.142 초\n"
     ]
    }
   ],
   "source": [
    "v30_nondup_reg_list = take_reg('v30중복 비허용', v30_nondup_text)\n",
    "v30_dup_reg_list = take_reg('v30중복 허용', v30_dup_text)\n",
    "\n",
    "note8_nondup_reg_list = take_reg('노트8중복 비허용', note8_nondup_text)\n",
    "note8_dup_reg_list = take_reg('노트8중복 허용', note8_dup_text)\n"
   ]
  },
  {
   "cell_type": "code",
   "execution_count": 13,
   "metadata": {},
   "outputs": [
    {
     "data": {
      "text/html": [
       "<div>\n",
       "<style>\n",
       "    .dataframe thead tr:only-child th {\n",
       "        text-align: right;\n",
       "    }\n",
       "\n",
       "    .dataframe thead th {\n",
       "        text-align: left;\n",
       "    }\n",
       "\n",
       "    .dataframe tbody tr th {\n",
       "        vertical-align: top;\n",
       "    }\n",
       "</style>\n",
       "<table border=\"1\" class=\"dataframe\">\n",
       "  <thead>\n",
       "    <tr style=\"text-align: right;\">\n",
       "      <th></th>\n",
       "      <th>0</th>\n",
       "    </tr>\n",
       "  </thead>\n",
       "  <tbody>\n",
       "    <tr>\n",
       "      <th>0</th>\n",
       "      <td>후 노트8 계약하고 왔다 기기가 매장에 없어서 오후에 퀵으로 쏴주는걸로</td>\n",
       "    </tr>\n",
       "    <tr>\n",
       "      <th>1</th>\n",
       "      <td>후 노트8 계약하고 왔다 기기가 매장에 없어서 오후에 퀵으로 쏴주는걸로</td>\n",
       "    </tr>\n",
       "    <tr>\n",
       "      <th>2</th>\n",
       "      <td>허루노트8케이스드디어이뿡고샄댜</td>\n",
       "    </tr>\n",
       "    <tr>\n",
       "      <th>3</th>\n",
       "      <td>오늘 사랑하는 사람에게는 어떤 러브액션이 필요할까요 치약을 펌핑하여 다트를 맞춰주세...</td>\n",
       "    </tr>\n",
       "    <tr>\n",
       "      <th>4</th>\n",
       "      <td>갤럭시 노트8 일반판매 시작 93 갤럭시노트8</td>\n",
       "    </tr>\n",
       "  </tbody>\n",
       "</table>\n",
       "</div>"
      ],
      "text/plain": [
       "                                                   0\n",
       "0            후 노트8 계약하고 왔다 기기가 매장에 없어서 오후에 퀵으로 쏴주는걸로\n",
       "1            후 노트8 계약하고 왔다 기기가 매장에 없어서 오후에 퀵으로 쏴주는걸로\n",
       "2                                   허루노트8케이스드디어이뿡고샄댜\n",
       "3  오늘 사랑하는 사람에게는 어떤 러브액션이 필요할까요 치약을 펌핑하여 다트를 맞춰주세...\n",
       "4                          갤럭시 노트8 일반판매 시작 93 갤럭시노트8"
      ]
     },
     "execution_count": 13,
     "metadata": {},
     "output_type": "execute_result"
    }
   ],
   "source": [
    "pd.DataFrame(note8_dup_reg_list).head()\n"
   ]
  },
  {
   "cell_type": "code",
   "execution_count": 14,
   "metadata": {},
   "outputs": [
    {
     "data": {
      "text/html": [
       "<div>\n",
       "<style>\n",
       "    .dataframe thead tr:only-child th {\n",
       "        text-align: right;\n",
       "    }\n",
       "\n",
       "    .dataframe thead th {\n",
       "        text-align: left;\n",
       "    }\n",
       "\n",
       "    .dataframe tbody tr th {\n",
       "        vertical-align: top;\n",
       "    }\n",
       "</style>\n",
       "<table border=\"1\" class=\"dataframe\">\n",
       "  <thead>\n",
       "    <tr style=\"text-align: right;\">\n",
       "      <th></th>\n",
       "      <th>0</th>\n",
       "    </tr>\n",
       "  </thead>\n",
       "  <tbody>\n",
       "    <tr>\n",
       "      <th>0</th>\n",
       "      <td>야마가타 대학의 강점은 올레드 나스카 지상화 암 치료입니다 이들은 유망입니다 삼성 ...</td>\n",
       "    </tr>\n",
       "    <tr>\n",
       "      <th>1</th>\n",
       "      <td>야마가타 대학의 강점은 올레드 나스카 지상화 암 치료입니다 이들은 유망입니다 삼성 ...</td>\n",
       "    </tr>\n",
       "    <tr>\n",
       "      <th>2</th>\n",
       "      <td>다있다 본격 색상마케팅   30 라벤더바이올렛 출시   갤노트8  메이플골드 출시 ...</td>\n",
       "    </tr>\n",
       "    <tr>\n",
       "      <th>3</th>\n",
       "      <td>30 블락비   뮤직비디오 촬영 꿀팁은  1 30 블락비 블락비뮤직비디오  지코 ...</td>\n",
       "    </tr>\n",
       "    <tr>\n",
       "      <th>4</th>\n",
       "      <td>30 라벤더 바이올렛의  솔직하게 평가해보니 과연  된다맥북아이맥 하이시에라 30 ...</td>\n",
       "    </tr>\n",
       "  </tbody>\n",
       "</table>\n",
       "</div>"
      ],
      "text/plain": [
       "                                                   0\n",
       "0  야마가타 대학의 강점은 올레드 나스카 지상화 암 치료입니다 이들은 유망입니다 삼성 ...\n",
       "1  야마가타 대학의 강점은 올레드 나스카 지상화 암 치료입니다 이들은 유망입니다 삼성 ...\n",
       "2  다있다 본격 색상마케팅   30 라벤더바이올렛 출시   갤노트8  메이플골드 출시 ...\n",
       "3   30 블락비   뮤직비디오 촬영 꿀팁은  1 30 블락비 블락비뮤직비디오  지코 ...\n",
       "4  30 라벤더 바이올렛의  솔직하게 평가해보니 과연  된다맥북아이맥 하이시에라 30 ..."
      ]
     },
     "execution_count": 14,
     "metadata": {},
     "output_type": "execute_result"
    }
   ],
   "source": [
    "pd.DataFrame(v30_dup_reg_list).head()\n"
   ]
  },
  {
   "cell_type": "code",
   "execution_count": 15,
   "metadata": {},
   "outputs": [
    {
     "data": {
      "text/html": [
       "<div>\n",
       "<style>\n",
       "    .dataframe thead tr:only-child th {\n",
       "        text-align: right;\n",
       "    }\n",
       "\n",
       "    .dataframe thead th {\n",
       "        text-align: left;\n",
       "    }\n",
       "\n",
       "    .dataframe tbody tr th {\n",
       "        vertical-align: top;\n",
       "    }\n",
       "</style>\n",
       "<table border=\"1\" class=\"dataframe\">\n",
       "  <thead>\n",
       "    <tr style=\"text-align: right;\">\n",
       "      <th></th>\n",
       "      <th>0</th>\n",
       "    </tr>\n",
       "  </thead>\n",
       "  <tbody>\n",
       "    <tr>\n",
       "      <th>0</th>\n",
       "      <td>야마가타 대학의 강점은 올레드 나스카 지상화 암 치료입니다 이들은 유망입니다 삼성 ...</td>\n",
       "    </tr>\n",
       "    <tr>\n",
       "      <th>1</th>\n",
       "      <td>다있다 스마트폰 적자 1조 곧 출시될 30 희망이 되어줄 수 있을까 5</td>\n",
       "    </tr>\n",
       "    <tr>\n",
       "      <th>2</th>\n",
       "      <td>30 국민 체험단 응모해 보세요  3 30 30체험단 30</td>\n",
       "    </tr>\n",
       "    <tr>\n",
       "      <th>3</th>\n",
       "      <td>오직 30라서 가능한 3가지 이야기 3가지 기술들</td>\n",
       "    </tr>\n",
       "    <tr>\n",
       "      <th>4</th>\n",
       "      <td>뉴스 구글  2   인증 완료 가 만들던건 드랍되고 30 기반  제품이예요 09  ...</td>\n",
       "    </tr>\n",
       "  </tbody>\n",
       "</table>\n",
       "</div>"
      ],
      "text/plain": [
       "                                                   0\n",
       "0  야마가타 대학의 강점은 올레드 나스카 지상화 암 치료입니다 이들은 유망입니다 삼성 ...\n",
       "1            다있다 스마트폰 적자 1조 곧 출시될 30 희망이 되어줄 수 있을까 5\n",
       "2                   30 국민 체험단 응모해 보세요  3 30 30체험단 30\n",
       "3                       오직 30라서 가능한 3가지 이야기 3가지 기술들 \n",
       "4  뉴스 구글  2   인증 완료 가 만들던건 드랍되고 30 기반  제품이예요 09  ..."
      ]
     },
     "execution_count": 15,
     "metadata": {},
     "output_type": "execute_result"
    }
   ],
   "source": [
    "pd.DataFrame(v30_nondup_reg_list).head()\n"
   ]
  },
  {
   "cell_type": "code",
   "execution_count": 16,
   "metadata": {},
   "outputs": [
    {
     "data": {
      "text/html": [
       "<div>\n",
       "<style>\n",
       "    .dataframe thead tr:only-child th {\n",
       "        text-align: right;\n",
       "    }\n",
       "\n",
       "    .dataframe thead th {\n",
       "        text-align: left;\n",
       "    }\n",
       "\n",
       "    .dataframe tbody tr th {\n",
       "        vertical-align: top;\n",
       "    }\n",
       "</style>\n",
       "<table border=\"1\" class=\"dataframe\">\n",
       "  <thead>\n",
       "    <tr style=\"text-align: right;\">\n",
       "      <th></th>\n",
       "      <th>0</th>\n",
       "    </tr>\n",
       "  </thead>\n",
       "  <tbody>\n",
       "    <tr>\n",
       "      <th>0</th>\n",
       "      <td>노트8</td>\n",
       "    </tr>\n",
       "    <tr>\n",
       "      <th>1</th>\n",
       "      <td>허루노트8케이스드디어이뿡고샄댜</td>\n",
       "    </tr>\n",
       "    <tr>\n",
       "      <th>2</th>\n",
       "      <td>오늘 사랑하는 사람에게는 어떤 러브액션이 필요할까요 치약을 펌핑하여 다트를 맞춰주세...</td>\n",
       "    </tr>\n",
       "    <tr>\n",
       "      <th>3</th>\n",
       "      <td>갤럭시 노트8 일반판매 시작 93 갤럭시노트8</td>\n",
       "    </tr>\n",
       "    <tr>\n",
       "      <th>4</th>\n",
       "      <td>아흑 노트8 후기같은거 좀 보고 결정해야겠어욬뭘 먼저 살지</td>\n",
       "    </tr>\n",
       "  </tbody>\n",
       "</table>\n",
       "</div>"
      ],
      "text/plain": [
       "                                                   0\n",
       "0                                                노트8\n",
       "1                                   허루노트8케이스드디어이뿡고샄댜\n",
       "2  오늘 사랑하는 사람에게는 어떤 러브액션이 필요할까요 치약을 펌핑하여 다트를 맞춰주세...\n",
       "3                          갤럭시 노트8 일반판매 시작 93 갤럭시노트8\n",
       "4                   아흑 노트8 후기같은거 좀 보고 결정해야겠어욬뭘 먼저 살지"
      ]
     },
     "execution_count": 16,
     "metadata": {},
     "output_type": "execute_result"
    }
   ],
   "source": [
    "pd.DataFrame(note8_nondup_reg_list).head()"
   ]
  },
  {
   "cell_type": "markdown",
   "metadata": {},
   "source": [
    "# 데이터 프레임화"
   ]
  },
  {
   "cell_type": "code",
   "execution_count": 35,
   "metadata": {
    "collapsed": true
   },
   "outputs": [],
   "source": [
    "# mongo db의 id, date가져오기\n",
    "def take_contents(name, mongo_object):\n",
    "    print (\"Loading.. : {}\".format(name))\n",
    "    t0 = time()\n",
    "    result = mongo_object.find()\n",
    "    mongo_id = []\n",
    "    mongo_date = []\n",
    "    \n",
    "    for record in result:\n",
    "        mongo_id.append(record['id'])\n",
    "        mongo_date.append(record['date'])\n",
    "        \n",
    "    check_time(t0)\n",
    "    return mongo_id, mongo_date\n",
    "    "
   ]
  },
  {
   "cell_type": "code",
   "execution_count": 36,
   "metadata": {},
   "outputs": [
    {
     "name": "stdout",
     "output_type": "stream",
     "text": [
      "Loading.. : v30중복 비허용\n",
      "계산에 걸린시간 : 1.231 초\n",
      "Loading.. : v30중복 허용\n",
      "계산에 걸린시간 : 2.867 초\n",
      "Loading.. : 노트8 중복 비허용\n",
      "계산에 걸린시간 : 0.450 초\n",
      "Loading.. : 노트8 중복 허용\n",
      "계산에 걸린시간 : 1.295 초\n"
     ]
    }
   ],
   "source": [
    "v30_nondup_id, v30_nondup_data  = take_contents('v30중복 비허용', v30_nondup)\n",
    "v30_dup_id, v30_dup_data = take_contents('v30중복 허용', v30_dup)\n",
    "\n",
    "note8_nondup_id, note8_nondup_data = take_contents('노트8 중복 비허용', note8_nondup)\n",
    "note8_dup_id, note8_dup_data = take_contents('노트8 중복 허용',note8_dup)"
   ]
  },
  {
   "cell_type": "code",
   "execution_count": null,
   "metadata": {
    "collapsed": true
   },
   "outputs": [],
   "source": []
  },
  {
   "cell_type": "code",
   "execution_count": null,
   "metadata": {
    "collapsed": true
   },
   "outputs": [],
   "source": []
  },
  {
   "cell_type": "markdown",
   "metadata": {
    "collapsed": true
   },
   "source": [
    "# export to MySQL"
   ]
  },
  {
   "cell_type": "code",
   "execution_count": 17,
   "metadata": {
    "collapsed": true
   },
   "outputs": [],
   "source": [
    "import MySQLdb"
   ]
  },
  {
   "cell_type": "code",
   "execution_count": 29,
   "metadata": {
    "collapsed": true
   },
   "outputs": [],
   "source": [
    "server = ''\n",
    "db_id = 'root'\n",
    "db_pwd = ''\n",
    "db_db = 'phone_comparison'\n",
    "\n"
   ]
  },
  {
   "cell_type": "code",
   "execution_count": 51,
   "metadata": {
    "collapsed": true
   },
   "outputs": [],
   "source": [
    "db = MySQLdb.connect(server, db_id, db_pwd, db_db,\n",
    "                    cursorclass=MySQLdb.cursors.DictCursor)\n"
   ]
  },
  {
   "cell_type": "code",
   "execution_count": 52,
   "metadata": {
    "collapsed": true
   },
   "outputs": [],
   "source": [
    "cursor = db.cursor()"
   ]
  },
  {
   "cell_type": "code",
   "execution_count": 80,
   "metadata": {
    "collapsed": true
   },
   "outputs": [],
   "source": [
    "# mysql 에 table 생성\n",
    "def make_table (sns_name, table_name):\n",
    "    print (\"Making Table : {}\".format(sns_name))\n",
    "    t0 = time()\n",
    "    cursor = db.cursor()\n",
    "    sns_query = '''create table {}(\n",
    "                    order_no int,\n",
    "                    id varchar(255) not null,\n",
    "                    sns_date varchar(255) not null,\n",
    "                    sns_text varchar(1000) not null);'''.\\\n",
    "        format(table_name)\n",
    "    \n",
    "    try:\n",
    "        \n",
    "        cursor.execute(sns_query)\n",
    "        db.commit()\n",
    "    except Except as e:\n",
    "        db.rollback()\n",
    "        print (e)\n",
    "    \n",
    "    cursor.close()\n",
    "    check_time(t0)\n",
    "\n",
    "\n"
   ]
  },
  {
   "cell_type": "code",
   "execution_count": 78,
   "metadata": {
    "collapsed": true
   },
   "outputs": [],
   "source": [
    "# 만들어진 table 에 data 삽입\n",
    "def insert_mysql(sns_name,table_name, sns_id, sns_date, sns_text):\n",
    "    print (\"Inserting data : {}\".format(sns_name))\n",
    "    t0 = time()\n",
    "    cursor = db.cursor()\n",
    "    try:\n",
    "        for i in range(len(sns_id)):\n",
    "            cursor.execute(\"\"\"INSERT INTO {} VALUES ({}, '{}', '{}', '{}');\"\"\".\\\n",
    "                           format(table_name, i,sns_id[i], sns_date[i], sns_text[i]))\n",
    "        db.commit()\n",
    "        print (\"{} : DB 저장 완료\". format(sns_name))\n",
    "        \n",
    "    except Exception as e:\n",
    "        db.rollback()\n",
    "        print (e)\n",
    "\n",
    "    cursor.close()\n",
    "    check_time(t0)\n",
    "\n",
    "\n",
    "            \n",
    "    "
   ]
  },
  {
   "cell_type": "markdown",
   "metadata": {},
   "source": [
    "### Table 생성"
   ]
  },
  {
   "cell_type": "code",
   "execution_count": 81,
   "metadata": {},
   "outputs": [
    {
     "name": "stdout",
     "output_type": "stream",
     "text": [
      "Making Table : v30중복 비허용\n",
      "계산에 걸린시간 : 0.727 초\n",
      "Making Table : v30중복 허용\n",
      "계산에 걸린시간 : 0.821 초\n",
      "Making Table : 노트8중복 비허용\n",
      "계산에 걸린시간 : 1.534 초\n",
      "Making Table : 노트8중복 허용\n",
      "계산에 걸린시간 : 0.717 초\n"
     ]
    }
   ],
   "source": [
    "make_table('v30중복 비허용',\"v30_nondup\")\n",
    "make_table('v30중복 허용',\"v30_dup\")\n",
    "make_table('노트8중복 비허용',\"note8_nondup\")\n",
    "make_table('노트8중복 허용',\"note8_dup\")\n"
   ]
  },
  {
   "cell_type": "markdown",
   "metadata": {},
   "source": [
    "### 데이터 삽입"
   ]
  },
  {
   "cell_type": "code",
   "execution_count": 82,
   "metadata": {},
   "outputs": [
    {
     "name": "stdout",
     "output_type": "stream",
     "text": [
      "Inserting data : v30중복 비허용\n",
      "v30중복 비허용 : DB 저장 완료\n",
      "계산에 걸린시간 : 142.592 초\n",
      "Inserting data : v30중복 허용\n",
      "v30중복 허용 : DB 저장 완료\n",
      "계산에 걸린시간 : 7048.479 초\n",
      "Inserting data : 노트8중복 비허용\n",
      "노트8중복 비허용 : DB 저장 완료\n",
      "계산에 걸린시간 : 193.477 초\n",
      "Inserting data : 노트8중복 허용\n",
      "노트8중복 허용 : DB 저장 완료\n",
      "계산에 걸린시간 : 5389.118 초\n"
     ]
    }
   ],
   "source": [
    "insert_mysql('v30중복 비허용',\"v30_nondup\",v30_nondup_id,v30_nondup_data ,v30_nondup_reg_list)\n",
    "insert_mysql('v30중복 허용',\"v30_dup\",v30_dup_id,v30_dup_data ,v30_dup_reg_list)\n",
    "insert_mysql('노트8중복 비허용',\"note8_nondup\",note8_nondup_id,note8_nondup_data ,note8_nondup_reg_list)\n",
    "insert_mysql('노트8중복 허용',\"note8_dup\",note8_dup_id,note8_dup_data ,note8_dup_reg_list)\n"
   ]
  },
  {
   "cell_type": "code",
   "execution_count": 83,
   "metadata": {
    "collapsed": true
   },
   "outputs": [],
   "source": [
    "db.close()"
   ]
  },
  {
   "cell_type": "markdown",
   "metadata": {},
   "source": [
    "# Import Database "
   ]
  },
  {
   "cell_type": "code",
   "execution_count": 207,
   "metadata": {
    "collapsed": true
   },
   "outputs": [],
   "source": [
    "import pandas as pd"
   ]
  },
  {
   "cell_type": "code",
   "execution_count": 264,
   "metadata": {
    "collapsed": true
   },
   "outputs": [],
   "source": [
    "\n",
    "\n",
    "db = MySQLdb.connect(server, db_id, db_pwd, db_db, cursorclass=MySQLdb.cursors.DictCursor)\n",
    "cursor = db.cursor()\n",
    "    "
   ]
  },
  {
   "cell_type": "code",
   "execution_count": 265,
   "metadata": {
    "collapsed": true
   },
   "outputs": [],
   "source": [
    "#중복을 제거한 내용을 db에서 호출\n",
    "def distinct_db(model_name, table_name):\n",
    "    print (\"Taking contents of {}\".format(model_name))\n",
    "\n",
    "    open_mysql()\n",
    "    t0 = time()\n",
    "    query = '''select distinct id, sns_text from {}'''.format(table_name)\n",
    "    cursor.execute(query)\n",
    "    data = cursor.fetchall()\n",
    "    check_time(t0)\n",
    "    \n",
    "\n",
    "\n",
    "    return data_to_frame(data)\n",
    "    \n",
    "    "
   ]
  },
  {
   "cell_type": "code",
   "execution_count": 266,
   "metadata": {
    "collapsed": true
   },
   "outputs": [],
   "source": [
    "def data_to_frame(data):\n",
    "    sns_id = []\n",
    "    sns_text = []\n",
    "    for d in data:\n",
    "        sns_id.append(d['id'])\n",
    "        sns_text.append(d['sns_text'])\n",
    "    contents = {'id':sns_id, 'sns_text': sns_text}\n",
    "    return pd.DataFrame(contents)"
   ]
  },
  {
   "cell_type": "markdown",
   "metadata": {},
   "source": [
    "* 노트8 importing"
   ]
  },
  {
   "cell_type": "code",
   "execution_count": 267,
   "metadata": {},
   "outputs": [
    {
     "name": "stdout",
     "output_type": "stream",
     "text": [
      "Taking contents of 노트8\n",
      "계산에 걸린시간 : 1.030 초 \n",
      "\n"
     ]
    },
    {
     "data": {
      "text/html": [
       "<div>\n",
       "<style>\n",
       "    .dataframe thead tr:only-child th {\n",
       "        text-align: right;\n",
       "    }\n",
       "\n",
       "    .dataframe thead th {\n",
       "        text-align: left;\n",
       "    }\n",
       "\n",
       "    .dataframe tbody tr th {\n",
       "        vertical-align: top;\n",
       "    }\n",
       "</style>\n",
       "<table border=\"1\" class=\"dataframe\">\n",
       "  <thead>\n",
       "    <tr style=\"text-align: right;\">\n",
       "      <th></th>\n",
       "      <th>id</th>\n",
       "      <th>sns_text</th>\n",
       "    </tr>\n",
       "  </thead>\n",
       "  <tbody>\n",
       "    <tr>\n",
       "      <th>0</th>\n",
       "      <td>xlsx464</td>\n",
       "      <td>후 노트8 계약하고 왔다 기기가 매장에 없어서 오후에 퀵으로 쏴주는걸로</td>\n",
       "    </tr>\n",
       "    <tr>\n",
       "      <th>1</th>\n",
       "      <td>10_cc6121</td>\n",
       "      <td>허루노트8케이스드디어이뿡고샄댜</td>\n",
       "    </tr>\n",
       "    <tr>\n",
       "      <th>2</th>\n",
       "      <td>thdus06131</td>\n",
       "      <td>오늘 사랑하는 사람에게는 어떤 러브액션이 필요할까요 치약을 펌핑하여 다트를 맞춰주세...</td>\n",
       "    </tr>\n",
       "    <tr>\n",
       "      <th>3</th>\n",
       "      <td>leeeun3791</td>\n",
       "      <td>갤럭시 노트8 일반판매 시작 93 갤럭시노트8</td>\n",
       "    </tr>\n",
       "    <tr>\n",
       "      <th>4</th>\n",
       "      <td>cos_Shiro90</td>\n",
       "      <td>원래 노트8 고민 하고있었는데 찬율님꺼 실물 보고 뽕차오름크킄 만족스럽군</td>\n",
       "    </tr>\n",
       "  </tbody>\n",
       "</table>\n",
       "</div>"
      ],
      "text/plain": [
       "            id                                           sns_text\n",
       "0      xlsx464            후 노트8 계약하고 왔다 기기가 매장에 없어서 오후에 퀵으로 쏴주는걸로\n",
       "1    10_cc6121                                   허루노트8케이스드디어이뿡고샄댜\n",
       "2   thdus06131  오늘 사랑하는 사람에게는 어떤 러브액션이 필요할까요 치약을 펌핑하여 다트를 맞춰주세...\n",
       "3   leeeun3791                          갤럭시 노트8 일반판매 시작 93 갤럭시노트8\n",
       "4  cos_Shiro90           원래 노트8 고민 하고있었는데 찬율님꺼 실물 보고 뽕차오름크킄 만족스럽군"
      ]
     },
     "execution_count": 267,
     "metadata": {},
     "output_type": "execute_result"
    }
   ],
   "source": [
    "note8 = distinct_db(\"노트8\", 'note8_dup')\n",
    "note8.head()"
   ]
  },
  {
   "cell_type": "markdown",
   "metadata": {},
   "source": [
    "* V30 Importing"
   ]
  },
  {
   "cell_type": "code",
   "execution_count": 268,
   "metadata": {},
   "outputs": [
    {
     "name": "stdout",
     "output_type": "stream",
     "text": [
      "Taking contents of V30\n",
      "계산에 걸린시간 : 1.011 초 \n",
      "\n"
     ]
    },
    {
     "data": {
      "text/html": [
       "<div>\n",
       "<style>\n",
       "    .dataframe thead tr:only-child th {\n",
       "        text-align: right;\n",
       "    }\n",
       "\n",
       "    .dataframe thead th {\n",
       "        text-align: left;\n",
       "    }\n",
       "\n",
       "    .dataframe tbody tr th {\n",
       "        vertical-align: top;\n",
       "    }\n",
       "</style>\n",
       "<table border=\"1\" class=\"dataframe\">\n",
       "  <thead>\n",
       "    <tr style=\"text-align: right;\">\n",
       "      <th></th>\n",
       "      <th>id</th>\n",
       "      <th>sns_text</th>\n",
       "    </tr>\n",
       "  </thead>\n",
       "  <tbody>\n",
       "    <tr>\n",
       "      <th>0</th>\n",
       "      <td>yamadaikenbot</td>\n",
       "      <td>야마가타 대학의 강점은 올레드 나스카 지상화 암 치료입니다 이들은 유망입니다 삼성 ...</td>\n",
       "    </tr>\n",
       "    <tr>\n",
       "      <th>1</th>\n",
       "      <td>ajunews1</td>\n",
       "      <td>다있다 본격 색상마케팅   30 라벤더바이올렛 출시   갤노트8  메이플골드 출시 ...</td>\n",
       "    </tr>\n",
       "    <tr>\n",
       "      <th>2</th>\n",
       "      <td>sweetinside</td>\n",
       "      <td>30 블락비   뮤직비디오 촬영 꿀팁은  1 30 블락비 블락비뮤직비디오  지코 ...</td>\n",
       "    </tr>\n",
       "    <tr>\n",
       "      <th>3</th>\n",
       "      <td>kkibaek</td>\n",
       "      <td>30 라벤더 바이올렛의  솔직하게 평가해보니 과연  된다맥북아이맥 하이시에라 30 ...</td>\n",
       "    </tr>\n",
       "    <tr>\n",
       "      <th>4</th>\n",
       "      <td>underkg</td>\n",
       "      <td>뉴스 최상규 전자 사장 30 판매량 묻는 질문에 34잘 안팔려…34 올 3분기 추정...</td>\n",
       "    </tr>\n",
       "  </tbody>\n",
       "</table>\n",
       "</div>"
      ],
      "text/plain": [
       "              id                                           sns_text\n",
       "0  yamadaikenbot  야마가타 대학의 강점은 올레드 나스카 지상화 암 치료입니다 이들은 유망입니다 삼성 ...\n",
       "1       ajunews1  다있다 본격 색상마케팅   30 라벤더바이올렛 출시   갤노트8  메이플골드 출시 ...\n",
       "2    sweetinside   30 블락비   뮤직비디오 촬영 꿀팁은  1 30 블락비 블락비뮤직비디오  지코 ...\n",
       "3        kkibaek  30 라벤더 바이올렛의  솔직하게 평가해보니 과연  된다맥북아이맥 하이시에라 30 ...\n",
       "4        underkg  뉴스 최상규 전자 사장 30 판매량 묻는 질문에 34잘 안팔려…34 올 3분기 추정..."
      ]
     },
     "execution_count": 268,
     "metadata": {},
     "output_type": "execute_result"
    }
   ],
   "source": [
    "v30 = distinct_db('V30', 'v30_dup')\n",
    "v30.head()"
   ]
  },
  {
   "cell_type": "markdown",
   "metadata": {},
   "source": [
    "### db 특징확인"
   ]
  },
  {
   "cell_type": "code",
   "execution_count": 282,
   "metadata": {},
   "outputs": [
    {
     "name": "stdout",
     "output_type": "stream",
     "text": [
      "텍스트 개수 \n",
      " v30 : 784 \n",
      " 노트8 : 938 \n",
      "\n",
      "id개수 \n",
      " v30 : 369 \n",
      " 노트8 : 707 \n",
      "\n",
      "한 id 당 등록 text 개수 \n",
      " v30 : 2.12 \n",
      " 노트8 : 1.33\n"
     ]
    }
   ],
   "source": [
    "print (\"텍스트 개수 \\n v30 : {} \\n 노트8 : {} \\n\". format(len(v30.sns_text), \\\n",
    "                                                len(note8.sns_text)))\n",
    "print (\"id개수 \\n v30 : {} \\n 노트8 : {} \\n\".\\\n",
    "       format(len(v30.id.unique()), len(note8.id.unique())))\n",
    "\n",
    "v30_prop = round(len(v30.sns_text)/len(v30.id.unique()),2)\n",
    "note8_prop = round(len(note8.sns_text)/len(note8.id.unique()),2)\n",
    "\n",
    "print (\"한 id 당 등록 text 개수 \\n v30 : {} \\n 노트8 : {}\".\\\n",
    "       format(v30_prop, note8_prop))"
   ]
  },
  {
   "cell_type": "markdown",
   "metadata": {},
   "source": [
    "* 광고글이 많은 것인지, 기대 및 후기가 많은 것인지 애매하다"
   ]
  },
  {
   "cell_type": "markdown",
   "metadata": {},
   "source": [
    "### 피클\n"
   ]
  },
  {
   "cell_type": "code",
   "execution_count": 283,
   "metadata": {
    "collapsed": true
   },
   "outputs": [],
   "source": [
    "\n",
    "import pickle\n",
    "\n",
    "\n",
    "pickle.dump(v30, open( \"v30\", \"wb\" ))\n",
    "pickle.dump(note8, open( \"note8\", \"wb\" ))"
   ]
  }
 ],
 "metadata": {
  "kernelspec": {
   "display_name": "Python 3",
   "language": "python",
   "name": "python3"
  },
  "language_info": {
   "codemirror_mode": {
    "name": "ipython",
    "version": 3
   },
   "file_extension": ".py",
   "mimetype": "text/x-python",
   "name": "python",
   "nbconvert_exporter": "python",
   "pygments_lexer": "ipython3",
   "version": "3.6.1"
  }
 },
 "nbformat": 4,
 "nbformat_minor": 2
}
