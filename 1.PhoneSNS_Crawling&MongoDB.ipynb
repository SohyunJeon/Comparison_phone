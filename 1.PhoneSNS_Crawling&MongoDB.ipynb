{
 "cells": [
  {
   "cell_type": "markdown",
   "metadata": {},
   "source": [
    "# < 프로젝트 목표>\n",
    "1. 출시 직전과 출시 직후의 V30과 Note8의 SNS(twitter)를 크롤링 하여 자연어 처리를 통해 해당 제품의 기대 요인을 분석 해 본다\n",
    "2. 분석과정에서 MongoDB와 MySQL을 연동한다\n",
    "3. 다른 자연어 데이터와는 다르게 트위터는 **특수 문자, 문법 파괴가 심하고 신조어의 빈도가 많다.** 해당 특징을 감안하여 자연어 분석을 진행한다 "
   ]
  },
  {
   "cell_type": "code",
   "execution_count": 2,
   "metadata": {
    "collapsed": true
   },
   "outputs": [],
   "source": [
    "import requests\n",
    "import json\n",
    "import re\n",
    "from bs4 import BeautifulSoup\n",
    "from html.parser import HTMLParser"
   ]
  },
  {
   "cell_type": "code",
   "execution_count": 3,
   "metadata": {
    "collapsed": true
   },
   "outputs": [],
   "source": [
    "# 모델링 시간 구하기\n",
    "from time import time\n",
    "\n",
    "def check_time(t0):\n",
    "    dur = time() - t0\n",
    "    print (\"계산에 걸린시간 : {:.3f} 초\".format(dur))"
   ]
  },
  {
   "cell_type": "markdown",
   "metadata": {},
   "source": [
    "# 1. 크롤링"
   ]
  },
  {
   "cell_type": "markdown",
   "metadata": {},
   "source": [
    "### 1) Crawling Function"
   ]
  },
  {
   "cell_type": "code",
   "execution_count": 26,
   "metadata": {
    "collapsed": true
   },
   "outputs": [],
   "source": [
    "# 반복 함수, generator 사용\n",
    "def generate(model_name, n, url, cookie):\n",
    "    print (\" \\n {} 에 관하여 크롤링 중입니다.\".format(model_name))\n",
    "    \n",
    "    \n",
    "    i = 0\n",
    "    \n",
    "    t0 = time() # 시간 초기화\n",
    "    while i < n: # 주어진 수만큼 반복\n",
    "        url_phone = url.format(i)\n",
    "        key, value = sns_crawler(url_phone, cookie)\n",
    "        \n",
    "        yield key, value\n",
    "        # key(작성자)의 중복을 막기 위해 dict의 key는 바로 작성자로 넘긴다\n",
    "        i += 1\n",
    "    \n",
    "    check_time(t0)\n",
    "    \n",
    "    "
   ]
  },
  {
   "cell_type": "code",
   "execution_count": 5,
   "metadata": {
    "collapsed": true
   },
   "outputs": [],
   "source": [
    "# 크롤링 객체 생성 및 내용 가져오는 함수\n",
    "\n",
    "def sns_crawler(url, cookie):\n",
    "    header_phone = {}\n",
    "    header_phone['cookie'] = cookie\n",
    "    res_phone = requests.get(url, headers = header_phone)\n",
    "    # url 만으로는 크롤링이 되지 않아 header정보 추가\n",
    "    data_phone = json.loads(res_phone.content)\n",
    "    \n",
    "\n",
    "    contents_dict = {}\n",
    "\n",
    "    \n",
    "        \n",
    "    value_templist = [] # dict의 value가 들어갈 list\n",
    "    # key\n",
    "    contents_key = data_phone['RESULT']['SOCIALWEB_BOARD_V2']['r']['ds']['data']['user_screen_name']\n",
    "\n",
    "    # value\n",
    "    temp_value1 = data_phone['RESULT']['SOCIALWEB_BOARD_V2']['r']['ds']['data']['pub_date'] \n",
    "    temp_value2 = data_phone['RESULT']['SOCIALWEB_BOARD_V2']['r']['ds']['data']['text'] \n",
    "\n",
    "    value_templist.append(temp_value1)\n",
    "    value_templist.append(temp_value2)\n",
    "        \n",
    "\n",
    "    return contents_key, value_templist"
   ]
  },
  {
   "cell_type": "markdown",
   "metadata": {},
   "source": [
    "### 2) Making dictionary"
   ]
  },
  {
   "cell_type": "code",
   "execution_count": 28,
   "metadata": {
    "collapsed": true
   },
   "outputs": [],
   "source": [
    "\n",
    "\n",
    "def make_snsdict (model_name, iter_num, url, cookie):\n",
    "    \n",
    "    gen = generate(model_name, iter_num, url, cookie)\n",
    "\n",
    "    #중복불가 crawling\n",
    "    dict_nondup = {}\n",
    "    dict_dup= {}\n",
    "    key_num = 0\n",
    "    \n",
    "    for i in gen:\n",
    "        dict_nondup[i[0]] = i[1]         \n",
    "        dict_dup[key_num] = [i[0], i[1]]\n",
    "        key_num += 1\n",
    "    print (\"\\n 1) 모델: {} \\n 2) 중복제거 contents 개수는 {} 입니다.\".format(model_name, len(dict_nondup)))\n",
    "    \n",
    "    \n",
    "    #gen = generate(model_name, iter_num, url, cookie)\n",
    "    \n",
    "    #중복허용 crawling\n",
    "    #dict_dup= {}\n",
    "    #key_num = 0\n",
    "    #for i in gen:\n",
    "     #   dict_dup[key_num] = [i[0], i[1]]\n",
    "      #  key_num += 1\n",
    "    print (\"\\n 1) 모델 : {} \\n 2) 중복허용 contents 개수는 {} 입니다.\".format(model_name, len(dict_dup)))\n",
    "    \n",
    "    return dict_nondup, dict_dup\n",
    "\n"
   ]
  },
  {
   "cell_type": "markdown",
   "metadata": {},
   "source": [
    "### 3) V30"
   ]
  },
  {
   "cell_type": "markdown",
   "metadata": {},
   "source": [
    "* URL & Cookie정보"
   ]
  },
  {
   "cell_type": "code",
   "execution_count": 16,
   "metadata": {
    "collapsed": true
   },
   "outputs": [],
   "source": [
    "# url\n",
    "url_v30 = 'https://search.daum.net/qsearch?w=swBoard&search_option=tab\\\n",
    "&sort_type=socialweb&search_type=&st_query=&user=&begindate=&enddate=\\\n",
    "&uk=WcD2JdPnaUwAAC5J8EIAAACf&mk=Wefzi8uFookAAAqUzfEAAAAe&n=1&p={}\\\n",
    "&viewtype=json&q=v30'\n",
    "\n",
    "#cookie\n",
    "cookie_v30 = 'uvkey=WcD2JdPnaUwAAC5J8EIAAACf; SLEVEL=1; ssab=; \\\n",
    "ODT=NNSZ_SNEZ_BR1Z_WSAZ_IIMZ_FGKZ_VO2Z_; \\\n",
    "DDT=NKSZ_IVRZ_CCBZ_1DVZ_DICZ_GG1Z_MS2Z_; DTQUERY=v30; \\\n",
    "TIARA=debDoszx9N6z8uscxFx8jN1SPBs.iMogrdFhye9t3Q5.\\\n",
    "s4FFRLTkMZe-HSVbqtiKAXL9lcS39IhPohGj1ZKWGC6x7EZ6I99s'"
   ]
  },
  {
   "cell_type": "markdown",
   "metadata": {
    "collapsed": true
   },
   "source": [
    "* generator 객체 생성 및 호출\n"
   ]
  },
  {
   "cell_type": "code",
   "execution_count": 32,
   "metadata": {},
   "outputs": [
    {
     "name": "stdout",
     "output_type": "stream",
     "text": [
      " \n",
      " v30 에 관하여 크롤링 중입니다.\n",
      "계산에 걸린시간 : 2277.015 초\n",
      "\n",
      " 1) 모델: v30 \n",
      " 2) 중복제거 contents 개수는 369 입니다.\n",
      "\n",
      " 1) 모델 : v30 \n",
      " 2) 중복허용 contents 개수는 20000 입니다.\n"
     ]
    }
   ],
   "source": [
    "dict_nondup_v30, dict_dup_v30 = make_snsdict('v30', 20000, url_v30, cookie_v30)"
   ]
  },
  {
   "cell_type": "markdown",
   "metadata": {},
   "source": [
    "### 4) Note8"
   ]
  },
  {
   "cell_type": "markdown",
   "metadata": {},
   "source": [
    "* URL & Cookie 정보"
   ]
  },
  {
   "cell_type": "code",
   "execution_count": 33,
   "metadata": {
    "collapsed": true
   },
   "outputs": [],
   "source": [
    "# url\n",
    "url_note8 = 'https://search.daum.net/qsearch?w=swBoard&search_option=tab&\\\n",
    "sort_type=&search_type=&st_query=&user=&uk=WegTisuFolkAAGZHIwoAAACL&\\\n",
    "mk=WegTpdPnaW0AABbBK08AAACU&begindate=&enddate=20171019112427&\\\n",
    "retweet=&q=%EB%85%B8%ED%8A%B88&viewtype=json&p={}&n=1'\n",
    "\n",
    "#cookie\n",
    "cookie_note8 = 'uvkey=WegTisuFolkAAGZHIwoAAACL; ssab=; \\\n",
    "ODT=IIMZ_VO2Z_NNSZ_BR1Z_CCBZ_FGKZ_WSAZ_; \\\n",
    "DDT=NKSZ_IVRZ_DICZ_GG1Z_1DVZ_SNPZ_MS2Z_; DTQUERY=%EB%85%B8%ED%8A%B88;\\\n",
    "TIARA=8A51vhNbAeorPdcuTVLyR8R8bhlVhNO_wVuBsKod5Fzk8GJ54w8hP5ftiAXLR\\\n",
    "PYzThjfJmjS4Yr.bH6se98rGw00'"
   ]
  },
  {
   "cell_type": "code",
   "execution_count": 34,
   "metadata": {},
   "outputs": [
    {
     "name": "stdout",
     "output_type": "stream",
     "text": [
      " \n",
      " 노트8 에 관하여 크롤링 중입니다.\n",
      "계산에 걸린시간 : 2259.747 초\n",
      "\n",
      " 1) 모델: 노트8 \n",
      " 2) 중복제거 contents 개수는 707 입니다.\n",
      "\n",
      " 1) 모델 : 노트8 \n",
      " 2) 중복허용 contents 개수는 20000 입니다.\n"
     ]
    }
   ],
   "source": [
    "dict_nondup_note8, dict_dup_note8 = make_snsdict('노트8', 20000, url_note8, cookie_note8)"
   ]
  },
  {
   "cell_type": "code",
   "execution_count": null,
   "metadata": {
    "collapsed": true
   },
   "outputs": [],
   "source": [
    "# pymongo에 넣을 때 key 값이 int 면 오류  -> str 로 type 변경\n",
    "i = 0\n",
    "for i in range(20000):\n",
    "    key_str = str(i)\n",
    "    dict_dup_v30[key_str] = dict_dup_v30.pop(i)\n",
    "    i += 1"
   ]
  },
  {
   "cell_type": "code",
   "execution_count": 44,
   "metadata": {
    "collapsed": true
   },
   "outputs": [],
   "source": [
    "# pymongo에 넣을 때 key 값이 int 면 오류  -> str 로 type 변경\n",
    "i = 0\n",
    "for i in range(20000):\n",
    "    key_str = str(i)\n",
    "    dict_dup_note8[key_str] = dict_dup_note8.pop(i)\n",
    "    i += 1"
   ]
  },
  {
   "cell_type": "code",
   "execution_count": 180,
   "metadata": {
    "scrolled": false
   },
   "outputs": [
    {
     "data": {
      "text/html": [
       "<div>\n",
       "<style>\n",
       "    .dataframe thead tr:only-child th {\n",
       "        text-align: right;\n",
       "    }\n",
       "\n",
       "    .dataframe thead th {\n",
       "        text-align: left;\n",
       "    }\n",
       "\n",
       "    .dataframe tbody tr th {\n",
       "        vertical-align: top;\n",
       "    }\n",
       "</style>\n",
       "<table border=\"1\" class=\"dataframe\">\n",
       "  <thead>\n",
       "    <tr style=\"text-align: right;\">\n",
       "      <th></th>\n",
       "      <th>0</th>\n",
       "      <th>1</th>\n",
       "    </tr>\n",
       "  </thead>\n",
       "  <tbody>\n",
       "    <tr>\n",
       "      <th>02_youth</th>\n",
       "      <td>2017-10-15 18:14:28</td>\n",
       "      <td>엄마가 요금제 무제한해주고 폰 &lt;b&gt;노트&lt;/b&gt; &lt;b&gt;8&lt;/b&gt;로 바꿔줬다 ㅎㅎ 월...</td>\n",
       "    </tr>\n",
       "    <tr>\n",
       "      <th>0_Kio</th>\n",
       "      <td>2017-10-18 00:05:24</td>\n",
       "      <td>S8이랑 &lt;b&gt;노트&lt;/b&gt;&lt;b&gt;8&lt;/b&gt;은 사실상 월 5처넌 차이 정도 밖에 안나는...</td>\n",
       "    </tr>\n",
       "    <tr>\n",
       "      <th>0nicolessong0</th>\n",
       "      <td>2017-10-16 20:34:05</td>\n",
       "      <td>혹시 &lt;b&gt;노트&lt;/b&gt;&lt;b&gt;8&lt;/b&gt; 사전 예약 하신분들 중 문자 받으신 분ㅜㅠ 나...</td>\n",
       "    </tr>\n",
       "    <tr>\n",
       "      <th>10PVlaWXJWUmn90</th>\n",
       "      <td>2017-10-18 07:47:05</td>\n",
       "      <td>미래의 &lt;b&gt;노트&lt;/b&gt;님하고 론님도 집에 빨리들어가게 해주세요... &lt;b&gt;8&lt;/b...</td>\n",
       "    </tr>\n",
       "    <tr>\n",
       "      <th>10_cc6121</th>\n",
       "      <td>2017-10-19 11:11:51</td>\n",
       "      <td>허루ㅜㅜㅜㅜ&lt;b&gt;노트&lt;/b&gt;&lt;b&gt;8&lt;/b&gt;케이스드디어이뿡고샄댜ㅠㅜㅠㅠㅠㅠㅠㅠ</td>\n",
       "    </tr>\n",
       "  </tbody>\n",
       "</table>\n",
       "</div>"
      ],
      "text/plain": [
       "                                   0  \\\n",
       "02_youth         2017-10-15 18:14:28   \n",
       "0_Kio            2017-10-18 00:05:24   \n",
       "0nicolessong0    2017-10-16 20:34:05   \n",
       "10PVlaWXJWUmn90  2017-10-18 07:47:05   \n",
       "10_cc6121        2017-10-19 11:11:51   \n",
       "\n",
       "                                                                 1  \n",
       "02_youth         엄마가 요금제 무제한해주고 폰 <b>노트</b> <b>8</b>로 바꿔줬다 ㅎㅎ 월...  \n",
       "0_Kio            S8이랑 <b>노트</b><b>8</b>은 사실상 월 5처넌 차이 정도 밖에 안나는...  \n",
       "0nicolessong0    혹시 <b>노트</b><b>8</b> 사전 예약 하신분들 중 문자 받으신 분ㅜㅠ 나...  \n",
       "10PVlaWXJWUmn90  미래의 <b>노트</b>님하고 론님도 집에 빨리들어가게 해주세요... <b>8</b...  \n",
       "10_cc6121               허루ㅜㅜㅜㅜ<b>노트</b><b>8</b>케이스드디어이뿡고샄댜ㅠㅜㅠㅠㅠㅠㅠㅠ  "
      ]
     },
     "execution_count": 180,
     "metadata": {},
     "output_type": "execute_result"
    }
   ],
   "source": [
    "import pandas as pd\n",
    "\n",
    "pd.DataFrame(dict_nondup_note8).T.head()"
   ]
  },
  {
   "cell_type": "code",
   "execution_count": 181,
   "metadata": {},
   "outputs": [
    {
     "data": {
      "text/html": [
       "<div>\n",
       "<style>\n",
       "    .dataframe thead tr:only-child th {\n",
       "        text-align: right;\n",
       "    }\n",
       "\n",
       "    .dataframe thead th {\n",
       "        text-align: left;\n",
       "    }\n",
       "\n",
       "    .dataframe tbody tr th {\n",
       "        vertical-align: top;\n",
       "    }\n",
       "</style>\n",
       "<table border=\"1\" class=\"dataframe\">\n",
       "  <thead>\n",
       "    <tr style=\"text-align: right;\">\n",
       "      <th></th>\n",
       "      <th>0</th>\n",
       "      <th>1</th>\n",
       "    </tr>\n",
       "  </thead>\n",
       "  <tbody>\n",
       "    <tr>\n",
       "      <th>0</th>\n",
       "      <td>xlsx464</td>\n",
       "      <td>[2017-10-19 11:11:56, 후... &lt;b&gt;노트&lt;/b&gt;&lt;b&gt;8&lt;/b&gt; 계...</td>\n",
       "    </tr>\n",
       "    <tr>\n",
       "      <th>1</th>\n",
       "      <td>xlsx464</td>\n",
       "      <td>[2017-10-19 11:11:56, 후... &lt;b&gt;노트&lt;/b&gt;&lt;b&gt;8&lt;/b&gt; 계...</td>\n",
       "    </tr>\n",
       "    <tr>\n",
       "      <th>10</th>\n",
       "      <td>U3U_0212</td>\n",
       "      <td>[2017-10-19 10:15:34, 꿈속에서 폰 &lt;b&gt;노트&lt;/b&gt;&lt;b&gt;8&lt;/b&gt;...</td>\n",
       "    </tr>\n",
       "    <tr>\n",
       "      <th>100</th>\n",
       "      <td>WhitestoneHodoo</td>\n",
       "      <td>[2017-10-18 21:38:45, 갤럭시&lt;b&gt;노트&lt;/b&gt;&lt;b&gt;8&lt;/b&gt; 리뷰 ...</td>\n",
       "    </tr>\n",
       "    <tr>\n",
       "      <th>1000</th>\n",
       "      <td>indigo_93</td>\n",
       "      <td>[2017-10-14 22:33:09, @_sailer_ &lt;b&gt;노트&lt;/b&gt;&lt;b&gt;8&lt;...</td>\n",
       "    </tr>\n",
       "  </tbody>\n",
       "</table>\n",
       "</div>"
      ],
      "text/plain": [
       "                    0                                                  1\n",
       "0             xlsx464  [2017-10-19 11:11:56, 후... <b>노트</b><b>8</b> 계...\n",
       "1             xlsx464  [2017-10-19 11:11:56, 후... <b>노트</b><b>8</b> 계...\n",
       "10           U3U_0212  [2017-10-19 10:15:34, 꿈속에서 폰 <b>노트</b><b>8</b>...\n",
       "100   WhitestoneHodoo  [2017-10-18 21:38:45, 갤럭시<b>노트</b><b>8</b> 리뷰 ...\n",
       "1000        indigo_93  [2017-10-14 22:33:09, @_sailer_ <b>노트</b><b>8<..."
      ]
     },
     "execution_count": 181,
     "metadata": {},
     "output_type": "execute_result"
    }
   ],
   "source": [
    "pd.DataFrame(dict_dup_note8).T.head()"
   ]
  },
  {
   "cell_type": "code",
   "execution_count": 182,
   "metadata": {},
   "outputs": [
    {
     "data": {
      "text/html": [
       "<div>\n",
       "<style>\n",
       "    .dataframe thead tr:only-child th {\n",
       "        text-align: right;\n",
       "    }\n",
       "\n",
       "    .dataframe thead th {\n",
       "        text-align: left;\n",
       "    }\n",
       "\n",
       "    .dataframe tbody tr th {\n",
       "        vertical-align: top;\n",
       "    }\n",
       "</style>\n",
       "<table border=\"1\" class=\"dataframe\">\n",
       "  <thead>\n",
       "    <tr style=\"text-align: right;\">\n",
       "      <th></th>\n",
       "      <th>0</th>\n",
       "      <th>1</th>\n",
       "    </tr>\n",
       "  </thead>\n",
       "  <tbody>\n",
       "    <tr>\n",
       "      <th>04140423</th>\n",
       "      <td>2017-10-07 11:27:37</td>\n",
       "      <td>&lt;b&gt;V30&lt;/b&gt;블락비 짱짱맨 마이존사랑해요ㅠㅠ [&lt;b&gt;V30&lt;/b&gt; X bloc...</td>\n",
       "    </tr>\n",
       "    <tr>\n",
       "      <th>100uky</th>\n",
       "      <td>2017-09-01 21:09:40</td>\n",
       "      <td>이번에 꽤 잘나왔던데,,,떨어졌구나. it review 자존심 바닥이구나! 안녕 L...</td>\n",
       "    </tr>\n",
       "    <tr>\n",
       "      <th>1111111kChoi</th>\n",
       "      <td>2017-10-12 19:17:49</td>\n",
       "      <td>카메라 촬영 하드웨어는 잘 만든듯하다. 그러나 촬영항 영상을 쉽게 스마트폰앱으로 편...</td>\n",
       "    </tr>\n",
       "    <tr>\n",
       "      <th>1dayofgirl</th>\n",
       "      <td>2017-09-06 05:15:54</td>\n",
       "      <td>[550x] https://t.co/fRvosNySQk [450x] https://...</td>\n",
       "    </tr>\n",
       "    <tr>\n",
       "      <th>62wavesplayball</th>\n",
       "      <td>2017-09-01 21:20:23</td>\n",
       "      <td>사랑해요 엘지  #사랑해요 #엘지 #금성 #골드스타 #체험단 #항상탈락 #&lt;b&gt;V3...</td>\n",
       "    </tr>\n",
       "  </tbody>\n",
       "</table>\n",
       "</div>"
      ],
      "text/plain": [
       "                                   0  \\\n",
       "04140423         2017-10-07 11:27:37   \n",
       "100uky           2017-09-01 21:09:40   \n",
       "1111111kChoi     2017-10-12 19:17:49   \n",
       "1dayofgirl       2017-09-06 05:15:54   \n",
       "62wavesplayball  2017-09-01 21:20:23   \n",
       "\n",
       "                                                                 1  \n",
       "04140423         <b>V30</b>블락비 짱짱맨 마이존사랑해요ㅠㅠ [<b>V30</b> X bloc...  \n",
       "100uky           이번에 꽤 잘나왔던데,,,떨어졌구나. it review 자존심 바닥이구나! 안녕 L...  \n",
       "1111111kChoi     카메라 촬영 하드웨어는 잘 만든듯하다. 그러나 촬영항 영상을 쉽게 스마트폰앱으로 편...  \n",
       "1dayofgirl       [550x] https://t.co/fRvosNySQk [450x] https://...  \n",
       "62wavesplayball  사랑해요 엘지  #사랑해요 #엘지 #금성 #골드스타 #체험단 #항상탈락 #<b>V3...  "
      ]
     },
     "execution_count": 182,
     "metadata": {},
     "output_type": "execute_result"
    }
   ],
   "source": [
    "pd.DataFrame(dict_nondup_v30).T.head()"
   ]
  },
  {
   "cell_type": "code",
   "execution_count": 183,
   "metadata": {},
   "outputs": [
    {
     "data": {
      "text/html": [
       "<div>\n",
       "<style>\n",
       "    .dataframe thead tr:only-child th {\n",
       "        text-align: right;\n",
       "    }\n",
       "\n",
       "    .dataframe thead th {\n",
       "        text-align: left;\n",
       "    }\n",
       "\n",
       "    .dataframe tbody tr th {\n",
       "        vertical-align: top;\n",
       "    }\n",
       "</style>\n",
       "<table border=\"1\" class=\"dataframe\">\n",
       "  <thead>\n",
       "    <tr style=\"text-align: right;\">\n",
       "      <th></th>\n",
       "      <th>0</th>\n",
       "      <th>1</th>\n",
       "    </tr>\n",
       "  </thead>\n",
       "  <tbody>\n",
       "    <tr>\n",
       "      <th>0</th>\n",
       "      <td>yamadaikenbot</td>\n",
       "      <td>[2017-10-19 06:10:48, 야마가타 대학의 강점은 올레드, 나스카 지상...</td>\n",
       "    </tr>\n",
       "    <tr>\n",
       "      <th>1</th>\n",
       "      <td>yamadaikenbot</td>\n",
       "      <td>[2017-10-19 06:10:48, 야마가타 대학의 강점은 올레드, 나스카 지상...</td>\n",
       "    </tr>\n",
       "    <tr>\n",
       "      <th>10</th>\n",
       "      <td>raycatnet</td>\n",
       "      <td>[2017-10-13 10:12:35, lg &lt;b&gt;v30&lt;/b&gt; 화면 캡처 방법과 ...</td>\n",
       "    </tr>\n",
       "    <tr>\n",
       "      <th>100</th>\n",
       "      <td>YDGStar</td>\n",
       "      <td>[2017-10-17 08:26:37, ■갤럭시노트8,&lt;b&gt;V30&lt;/b&gt;,아이폰7,...</td>\n",
       "    </tr>\n",
       "    <tr>\n",
       "      <th>1000</th>\n",
       "      <td>tnqls119</td>\n",
       "      <td>[2017-09-27 10:23:32, [TF현장] `갤노트8 40만 원, &lt;b&gt;V...</td>\n",
       "    </tr>\n",
       "  </tbody>\n",
       "</table>\n",
       "</div>"
      ],
      "text/plain": [
       "                  0                                                  1\n",
       "0     yamadaikenbot  [2017-10-19 06:10:48, 야마가타 대학의 강점은 올레드, 나스카 지상...\n",
       "1     yamadaikenbot  [2017-10-19 06:10:48, 야마가타 대학의 강점은 올레드, 나스카 지상...\n",
       "10        raycatnet  [2017-10-13 10:12:35, lg <b>v30</b> 화면 캡처 방법과 ...\n",
       "100         YDGStar  [2017-10-17 08:26:37, ■갤럭시노트8,<b>V30</b>,아이폰7,...\n",
       "1000       tnqls119  [2017-09-27 10:23:32, [TF현장] `갤노트8 40만 원, <b>V..."
      ]
     },
     "execution_count": 183,
     "metadata": {},
     "output_type": "execute_result"
    }
   ],
   "source": [
    "pd.DataFrame(dict_dup_v30).T.head()"
   ]
  },
  {
   "cell_type": "markdown",
   "metadata": {},
   "source": [
    "# 2. Insert Data to MongoDB\n",
    "* 리트윗이나 광고글의 목적으로 같은 ID가 같은 내용을 여러번 올리는 경우도 있고, 다른 내용을 올리는 경우도 있다\n",
    "* non_dup : 중복을 허용하지 않기 위해 dictionary의 key값을 id로 하여, value는 최종 트윗 내용으로 대체한다\n",
    "* dup : 추후 분석에 필요할 수도 있어 id와 text를 같은 내용이라도 전부 저장한다. \n",
    "* 형식이 유동적이어서 일단 크롤링한 내용을 mongodb에 저장한다"
   ]
  },
  {
   "cell_type": "markdown",
   "metadata": {},
   "source": [
    "### 1) 형식에 맞게 key값을 id, date, text 로 하는 함수"
   ]
  },
  {
   "cell_type": "code",
   "execution_count": 170,
   "metadata": {
    "collapsed": true
   },
   "outputs": [],
   "source": [
    "# 중복허용 하지 않은 결과\n",
    "def make_dbcontents_nondup(contents_dict):\n",
    "    t0 = time()\n",
    "    \n",
    "    total_list = []\n",
    "    keys = list(map(lambda x: {'id':x} , contents_dict.keys()))\n",
    "    i = 0\n",
    "    for value in contents_dict.values():\n",
    "        \n",
    "        total_dict = {}\n",
    "        total_dict['id'] = keys[i]['id']\n",
    "        total_dict['date'] = list(contents_dict.values())[:][i][0]\n",
    "        total_dict['text'] = list(contents_dict.values())[:][i][1]\n",
    "        i += 1\n",
    "        total_list.append(total_dict)\n",
    "        \n",
    "    check_time(t0)\n",
    "        \n",
    "    return total_list"
   ]
  },
  {
   "cell_type": "code",
   "execution_count": 171,
   "metadata": {
    "collapsed": true
   },
   "outputs": [],
   "source": [
    "# 중복 허용 한 결과\n",
    "def make_dbcontents_dup(contents_dict):\n",
    "    t0 = time()\n",
    "     \n",
    "    total_list = []\n",
    "    i = 0\n",
    "    for value in contents_dict.values():\n",
    "        \n",
    "        total_dict = {}\n",
    "        total_dict['id'] = list(contents_dict.values())[:][:][i][0]\n",
    "        total_dict['date'] = list(contents_dict.values())[:][:][:][i][1][0]\n",
    "        total_dict['text'] = list(contents_dict.values())[:][:][:][i][1][1]\n",
    "        i += 1\n",
    "        total_list.append(total_dict)\n",
    "        \n",
    "    check_time(t0)\n",
    "        \n",
    "    return total_list"
   ]
  },
  {
   "cell_type": "code",
   "execution_count": 91,
   "metadata": {
    "collapsed": true
   },
   "outputs": [],
   "source": [
    "import pymongo \n",
    "\n",
    "mongo_server = '52.14.175.152'\n",
    "mongo_port = 54329\n",
    "\n",
    "from pymongo import MongoClient\n",
    "\n",
    "mongo = MongoClient(mongo_server, mongo_port)\n"
   ]
  },
  {
   "cell_type": "code",
   "execution_count": 116,
   "metadata": {
    "collapsed": true
   },
   "outputs": [],
   "source": [
    "db_note8_nondup = mongo.sns.note8_nondup\n",
    "db_v30_nondup = mongo.sns.v30_nondup\n",
    "\n",
    "db_note8_dup = mongo.sns.note8_dup\n",
    "db_v30_dup = mongo.sns.v30_dup"
   ]
  },
  {
   "cell_type": "markdown",
   "metadata": {},
   "source": [
    "### 2) V30"
   ]
  },
  {
   "cell_type": "code",
   "execution_count": 172,
   "metadata": {},
   "outputs": [
    {
     "name": "stdout",
     "output_type": "stream",
     "text": [
      "계산에 걸린시간 : 0.005 초\n",
      "계산에 걸린시간 : 30.676 초\n"
     ]
    }
   ],
   "source": [
    "list_nondup_v30 = make_dbcontents_nondup(dict_nondup_v30)\n",
    "list_dup_v30 = make_dbcontents_dup(dict_dup_v30)\n",
    "\n"
   ]
  },
  {
   "cell_type": "code",
   "execution_count": 175,
   "metadata": {},
   "outputs": [
    {
     "data": {
      "text/plain": [
       "<pymongo.results.InsertManyResult at 0x114d454c8>"
      ]
     },
     "execution_count": 175,
     "metadata": {},
     "output_type": "execute_result"
    }
   ],
   "source": [
    "# insert to mongodb\n",
    "db_v30_nondup.insert_many(list_nondup_v30)\n",
    "db_v30_dup.insert_many(list_dup_v30)\n"
   ]
  },
  {
   "cell_type": "markdown",
   "metadata": {},
   "source": [
    "### 3) Note8"
   ]
  },
  {
   "cell_type": "code",
   "execution_count": 176,
   "metadata": {},
   "outputs": [
    {
     "name": "stdout",
     "output_type": "stream",
     "text": [
      "계산에 걸린시간 : 0.010 초\n",
      "계산에 걸린시간 : 30.325 초\n"
     ]
    }
   ],
   "source": [
    "list_nondup_note8 = make_dbcontents_nondup(dict_nondup_note8)\n",
    "list_dup_note8 = make_dbcontents_dup(dict_dup_note8)\n"
   ]
  },
  {
   "cell_type": "code",
   "execution_count": 177,
   "metadata": {},
   "outputs": [
    {
     "data": {
      "text/plain": [
       "<pymongo.results.InsertManyResult at 0x115f80e08>"
      ]
     },
     "execution_count": 177,
     "metadata": {},
     "output_type": "execute_result"
    }
   ],
   "source": [
    "# insert to mongodb\n",
    "db_note8_nondup.insert_many(list_nondup_note8)\n",
    "db_note8_dup.insert_many(list_dup_note8)"
   ]
  }
 ],
 "metadata": {
  "kernelspec": {
   "display_name": "Python 3",
   "language": "python",
   "name": "python3"
  },
  "language_info": {
   "codemirror_mode": {
    "name": "ipython",
    "version": 3
   },
   "file_extension": ".py",
   "mimetype": "text/x-python",
   "name": "python",
   "nbconvert_exporter": "python",
   "pygments_lexer": "ipython3",
   "version": "3.6.1"
  }
 },
 "nbformat": 4,
 "nbformat_minor": 2
}
